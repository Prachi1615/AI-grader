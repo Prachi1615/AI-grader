{
 "cells": [
  {
   "cell_type": "markdown",
   "id": "301f877e-37f8-49e5-900c-8906bfeaa418",
   "metadata": {},
   "source": [
    "# "
   ]
  },
  {
   "cell_type": "code",
   "execution_count": 5,
   "id": "c6d8321c-6858-424e-8424-7775711ce213",
   "metadata": {},
   "outputs": [],
   "source": [
    "import openai\n",
    "import os"
   ]
  },
  {
   "cell_type": "code",
   "execution_count": 16,
   "id": "370ec35b-e38b-4809-a795-aa7ea8e4dc17",
   "metadata": {},
   "outputs": [
    {
     "name": "stdout",
     "output_type": "stream",
     "text": [
      "Collecting openai==0.28\n",
      "  Downloading openai-0.28.0-py3-none-any.whl.metadata (13 kB)\n",
      "Requirement already satisfied: requests>=2.20 in /home/snoronha/projects/gpt_implementation/env/lib/python3.11/site-packages (from openai==0.28) (2.31.0)\n",
      "Requirement already satisfied: tqdm in /home/snoronha/projects/gpt_implementation/env/lib/python3.11/site-packages (from openai==0.28) (4.66.4)\n",
      "Requirement already satisfied: aiohttp in /home/snoronha/projects/gpt_implementation/env/lib/python3.11/site-packages (from openai==0.28) (3.9.5)\n",
      "Requirement already satisfied: charset-normalizer<4,>=2 in /home/snoronha/projects/gpt_implementation/env/lib/python3.11/site-packages (from requests>=2.20->openai==0.28) (2.1.1)\n",
      "Requirement already satisfied: idna<4,>=2.5 in /home/snoronha/projects/gpt_implementation/env/lib/python3.11/site-packages (from requests>=2.20->openai==0.28) (3.4)\n",
      "Requirement already satisfied: urllib3<3,>=1.21.1 in /home/snoronha/projects/gpt_implementation/env/lib/python3.11/site-packages (from requests>=2.20->openai==0.28) (1.26.13)\n",
      "Requirement already satisfied: certifi>=2017.4.17 in /home/snoronha/projects/gpt_implementation/env/lib/python3.11/site-packages (from requests>=2.20->openai==0.28) (2022.12.7)\n",
      "Requirement already satisfied: aiosignal>=1.1.2 in /home/snoronha/projects/gpt_implementation/env/lib/python3.11/site-packages (from aiohttp->openai==0.28) (1.3.1)\n",
      "Requirement already satisfied: attrs>=17.3.0 in /home/snoronha/projects/gpt_implementation/env/lib/python3.11/site-packages (from aiohttp->openai==0.28) (23.2.0)\n",
      "Requirement already satisfied: frozenlist>=1.1.1 in /home/snoronha/projects/gpt_implementation/env/lib/python3.11/site-packages (from aiohttp->openai==0.28) (1.4.1)\n",
      "Requirement already satisfied: multidict<7.0,>=4.5 in /home/snoronha/projects/gpt_implementation/env/lib/python3.11/site-packages (from aiohttp->openai==0.28) (6.0.5)\n",
      "Requirement already satisfied: yarl<2.0,>=1.0 in /home/snoronha/projects/gpt_implementation/env/lib/python3.11/site-packages (from aiohttp->openai==0.28) (1.9.4)\n",
      "Downloading openai-0.28.0-py3-none-any.whl (76 kB)\n",
      "\u001b[2K   \u001b[38;2;114;156;31m━━━━━━━━━━━━━━━━━━━━━━━━━━━━━━━━━━━━━━━━\u001b[0m \u001b[32m76.5/76.5 kB\u001b[0m \u001b[31m5.3 MB/s\u001b[0m eta \u001b[36m0:00:00\u001b[0m\n",
      "\u001b[?25hInstalling collected packages: openai\n",
      "  Attempting uninstall: openai\n",
      "    Found existing installation: openai 1.31.1\n",
      "    Uninstalling openai-1.31.1:\n",
      "      Successfully uninstalled openai-1.31.1\n",
      "\u001b[31mERROR: pip's dependency resolver does not currently take into account all the packages that are installed. This behaviour is the source of the following dependency conflicts.\n",
      "dspy-ai 2.4.5 requires openai<2.0.0,>=0.28.1, but you have openai 0.28.0 which is incompatible.\u001b[0m\u001b[31m\n",
      "\u001b[0mSuccessfully installed openai-0.28.0\n",
      "\n",
      "\u001b[1m[\u001b[0m\u001b[34;49mnotice\u001b[0m\u001b[1;39;49m]\u001b[0m\u001b[39;49m A new release of pip is available: \u001b[0m\u001b[31;49m23.3.2\u001b[0m\u001b[39;49m -> \u001b[0m\u001b[32;49m24.0\u001b[0m\n",
      "\u001b[1m[\u001b[0m\u001b[34;49mnotice\u001b[0m\u001b[1;39;49m]\u001b[0m\u001b[39;49m To update, run: \u001b[0m\u001b[32;49mpip install --upgrade pip\u001b[0m\n"
     ]
    }
   ],
   "source": [
    "!pip install openai==0.28"
   ]
  },
  {
   "cell_type": "code",
   "execution_count": 17,
   "id": "8f21fd7b-a061-45c5-827e-c6434b25d0ef",
   "metadata": {},
   "outputs": [],
   "source": [
    "json_schema = {\n",
    "        \"type\": \"object\",\n",
    "        \"properties\": {\n",
    "            \"all_questions\": {\n",
    "                \"type\": \"array\",\n",
    "                \"items\": {\n",
    "                    \"type\": \"object\",\n",
    "                    \"properties\": {\n",
    "                        \"question_id\": {\n",
    "                            \"type\": \"int\",\n",
    "                            \"description\": \"This is a descriptive question generated to solve the problem\"\n",
    "                        },\n",
    "                        \"question\": {\n",
    "                            \"type\": \"string\",\n",
    "                            \"description\": \"This is the reason why the question is asked and how it solves the problem stated above\"\n",
    "                        },\n",
    "                    },\n",
    "                    \"required\": [\"question_id\", \"question\"]\n",
    "                }\n",
    "            },\n",
    "            \n",
    "        },\n",
    "        \"required\": [\"all_questions\"]\n",
    "    }\n"
   ]
  },
  {
   "cell_type": "code",
   "execution_count": 18,
   "id": "7bfe2119-30dd-4c29-81a1-393f19c6be70",
   "metadata": {},
   "outputs": [],
   "source": []
  },
  {
   "cell_type": "code",
   "execution_count": 19,
   "id": "7752d229-3fab-4aa4-9ab9-cd0261b59c00",
   "metadata": {},
   "outputs": [],
   "source": [
    "openai.api_key = os.getenv(\"OPENAI_API_KEY\")"
   ]
  },
  {
   "cell_type": "code",
   "execution_count": 67,
   "id": "93ddbc98-86eb-4394-ab91-b049481fe415",
   "metadata": {},
   "outputs": [
    {
     "name": "stdout",
     "output_type": "stream",
     "text": [
      "Object Oriented Programming - CS 001 1. What are the two main components that define a class in object-oriented programming? 2. Create a Python class called \"Rectangle\" with attributes \"length\" and \"width\", and a method called \"area\" that calculates and returns the area of the rectangle. 3. Explain the concept of data abstraction in object-oriented programming and how it relates to the internal representation and interface of an object. 4. Define a method called \"repr\" for the \"Coordinate\" class that returns a string representation of the object in the format \"Coordinate(x, y)\". 5. What is the purpose of the \"init\" method in a Python class? 6. Create a class called \"BankAccount\" with attributes \"balance\" and \"owner\", and methods \"deposit\" and \"withdraw\" that update the balance accordingly . 7. How does the \"self\" parameter work in Python class methods, and why is it necessary? 8. Modify the \"Fraction\" class from the lecture to include a method called \"multiply\" that takes another Fraction object as a parameter and returns a new Fraction object representing the product of the two fractions. 9. Discuss the advantages of object-oriented programming compared to procedural programming. 10. Create a class called \"Person\" with attributes \"name\" and \"age\", and a class called \"Student\" that inherits from \"Person\" and adds an attribute \"student_id\" and a method \"enroll\" that prints a message indicating the student has enrolled in a course. \n"
     ]
    }
   ],
   "source": [
    "import PyPDF2\n",
    "\n",
    "def get_clean_pdf_content(pdf_path):\n",
    "    # Initialize a variable to store the entire content of the PDF\n",
    "    entire_content = \"\"\n",
    "    \n",
    "    # Open the PDF file\n",
    "    with open(pdf_path, 'rb') as file:\n",
    "        # Create a PDF reader object\n",
    "        reader = PyPDF2.PdfReader(file)\n",
    "        # Get the number of pages in the PDF\n",
    "        num_pages = len(reader.pages)\n",
    "        \n",
    "        # Iterate through each page and add its contents to the variable\n",
    "        for page_num in range(num_pages):\n",
    "            page = reader.pages[page_num]\n",
    "            text = page.extract_text()\n",
    "            if text:\n",
    "                entire_content += text + \"\\n\"  # Add a newline character to separate pages\n",
    "\n",
    "    # Replace newline characters with spaces\n",
    "    clean_content = entire_content.replace('\\n', ' ')\n",
    "    \n",
    "    return clean_content\n",
    "\n",
    "# Example usage\n",
    "pdf_path = 'oop-assignment1.pdf'\n",
    "pdf_content = get_clean_pdf_content(pdf_path)\n",
    "print(pdf_content)"
   ]
  },
  {
   "cell_type": "code",
   "execution_count": null,
   "id": "a3206c32-bb7c-46fc-860b-915d04ae5fa5",
   "metadata": {},
   "outputs": [],
   "source": []
  },
  {
   "cell_type": "code",
   "execution_count": 25,
   "id": "5efe8c99-ce29-477d-b794-64377c8d376b",
   "metadata": {},
   "outputs": [
    {
     "name": "stdout",
     "output_type": "stream",
     "text": [
      "ChatCompletion(id='chatcmpl-9aCeEoV3bl77k4gBTh10SubbO1AFC', choices=[Choice(finish_reason='tool_calls', index=0, logprobs=None, message=ChatCompletionMessage(content=None, role='assistant', function_call=None, tool_calls=[ChatCompletionMessageToolCall(id='call_p9zii35RKmrTzk7xck21b52P', function=Function(arguments='{\"all_questions\":[{\"question_id\":1,\"question\":\"What are the two main components that define a class in object-oriented programming?\"},{\"question_id\":2,\"question\":\"Create a Python class called \\'Rectangle\\' with attributes \\'length\\' and \\'width\\', and a method called \\'area\\' that calculates and returns the area of the rectangle.\"},{\"question_id\":3,\"question\":\"Explain the concept of data abstraction in object-oriented programming and how it relates to the internal representation and interface of an object.\"},{\"question_id\":4,\"question\":\"Define a method called \\'repr\\' for the \\'Coordinate\\' class that returns a string representation of the object in the format \\'Coordinate(x, y)\\'.\"},{\"question_id\":5,\"question\":\"What is the purpose of the \\'init\\' method in a Python class?\"},{\"question_id\":6,\"question\":\"Create a class called \\'BankAccount\\' with attributes \\'balance\\' and \\'owner\\', and methods \\'deposit\\' and \\'withdraw\\' that update the balance accordingly.\"},{\"question_id\":7,\"question\":\"How does the \\'self\\' parameter work in Python class methods, and why is it necessary?\"},{\"question_id\":8,\"question\":\"Modify the \\'Fraction\\' class from the lecture to include a method called \\'multiply\\' that takes another Fraction object as a parameter and returns a new Fraction object representing the product of the two fractions.\"},{\"question_id\":9,\"question\":\"Discuss the advantages of object-oriented programming compared to procedural programming.\"},{\"question_id\":10,\"question\":\"Create a class called \\'Person\\' with attributes \\'name\\' and \\'age\\', and a class called \\'Student\\' that inherits from \\'Person\\' and adds an attribute \\'student_id\\' and a method \\'enroll\\' that prints a message indicating the student has enrolled in a course.\"}]}', name='Question_generation'), type='function')]))], created=1718415454, model='gpt-4o-2024-05-13', object='chat.completion', system_fingerprint='fp_319be4768e', usage=CompletionUsage(completion_tokens=373, prompt_tokens=425, total_tokens=798))\n"
     ]
    }
   ],
   "source": [
    "from openai import OpenAI\n",
    "client = OpenAI()\n",
    "def question_generation(pdf_content):\n",
    "    tools = [\n",
    "      {\n",
    "        \"type\": \"function\",\n",
    "        \"function\": {\n",
    "          \"name\": \"Question_generation\",\n",
    "          \"description\": \"Extract the questions in json\",\n",
    "          \"parameters\": {\n",
    "            \"type\": \"object\",\n",
    "            \"properties\": {\n",
    "                \"all_questions\": {\n",
    "                    \"type\": \"array\",\n",
    "                    \"items\": {\n",
    "                        \"type\": \"object\",\n",
    "                        \"properties\": {\n",
    "                            \"question_id\": {\n",
    "                                \"type\": \"integer\",\n",
    "                                \"description\": \"This is a descriptive question generated to solve the problem\"\n",
    "                            },\n",
    "                            \"question\": {\n",
    "                                \"type\": \"string\",\n",
    "                                \"description\": \"This is the reason why the question is asked and how it solves the problem stated above\"\n",
    "                            },\n",
    "                        },\n",
    "                        \"required\": [\"question_id\", \"question\"]\n",
    "                    }\n",
    "                },\n",
    "                \n",
    "            },\n",
    "            \"required\": [\"all_questions\"]\n",
    "          },\n",
    "        }\n",
    "      }\n",
    "    ]\n",
    "    messages = [{\"role\": \"user\", \"content\": f\"\"\"Extract the question from the data provided. Make sure you use the context to generate the json\n",
    "        context: {pdf_content}\"\"\"}]\n",
    "    completion = client.chat.completions.create(\n",
    "      model=\"gpt-4o\",\n",
    "      messages=messages,\n",
    "      tools=tools,\n",
    "      tool_choice=\"auto\"\n",
    "    )\n",
    "    return json.loads(completion.choices[0].message.tool_calls[0].function.arguments)\n"
   ]
  },
  {
   "cell_type": "code",
   "execution_count": 31,
   "id": "4e79683a-8448-4cf6-a77a-4dd1e6c71dfe",
   "metadata": {},
   "outputs": [
    {
     "data": {
      "text/plain": [
       "openai.types.chat.chat_completion.ChatCompletion"
      ]
     },
     "execution_count": 31,
     "metadata": {},
     "output_type": "execute_result"
    }
   ],
   "source": [
    "type(completion)"
   ]
  },
  {
   "cell_type": "code",
   "execution_count": 38,
   "id": "aa7511d9-bccf-42d3-aabe-f9e93c7059bc",
   "metadata": {},
   "outputs": [
    {
     "data": {
      "text/plain": [
       "ChatCompletion(id='chatcmpl-9aCeEoV3bl77k4gBTh10SubbO1AFC', choices=[Choice(finish_reason='tool_calls', index=0, logprobs=None, message=ChatCompletionMessage(content=None, role='assistant', function_call=None, tool_calls=[ChatCompletionMessageToolCall(id='call_p9zii35RKmrTzk7xck21b52P', function=Function(arguments='{\"all_questions\":[{\"question_id\":1,\"question\":\"What are the two main components that define a class in object-oriented programming?\"},{\"question_id\":2,\"question\":\"Create a Python class called \\'Rectangle\\' with attributes \\'length\\' and \\'width\\', and a method called \\'area\\' that calculates and returns the area of the rectangle.\"},{\"question_id\":3,\"question\":\"Explain the concept of data abstraction in object-oriented programming and how it relates to the internal representation and interface of an object.\"},{\"question_id\":4,\"question\":\"Define a method called \\'repr\\' for the \\'Coordinate\\' class that returns a string representation of the object in the format \\'Coordinate(x, y)\\'.\"},{\"question_id\":5,\"question\":\"What is the purpose of the \\'init\\' method in a Python class?\"},{\"question_id\":6,\"question\":\"Create a class called \\'BankAccount\\' with attributes \\'balance\\' and \\'owner\\', and methods \\'deposit\\' and \\'withdraw\\' that update the balance accordingly.\"},{\"question_id\":7,\"question\":\"How does the \\'self\\' parameter work in Python class methods, and why is it necessary?\"},{\"question_id\":8,\"question\":\"Modify the \\'Fraction\\' class from the lecture to include a method called \\'multiply\\' that takes another Fraction object as a parameter and returns a new Fraction object representing the product of the two fractions.\"},{\"question_id\":9,\"question\":\"Discuss the advantages of object-oriented programming compared to procedural programming.\"},{\"question_id\":10,\"question\":\"Create a class called \\'Person\\' with attributes \\'name\\' and \\'age\\', and a class called \\'Student\\' that inherits from \\'Person\\' and adds an attribute \\'student_id\\' and a method \\'enroll\\' that prints a message indicating the student has enrolled in a course.\"}]}', name='Question_generation'), type='function')]))], created=1718415454, model='gpt-4o-2024-05-13', object='chat.completion', system_fingerprint='fp_319be4768e', usage=CompletionUsage(completion_tokens=373, prompt_tokens=425, total_tokens=798))"
      ]
     },
     "execution_count": 38,
     "metadata": {},
     "output_type": "execute_result"
    }
   ],
   "source": [
    "completion"
   ]
  },
  {
   "cell_type": "code",
   "execution_count": 50,
   "id": "186c4519-041a-4034-9212-3a2b03b7e28e",
   "metadata": {},
   "outputs": [],
   "source": [
    "import json"
   ]
  },
  {
   "cell_type": "code",
   "execution_count": 51,
   "id": "0147a6b4-4427-4f12-8cd2-259cd9cf5f95",
   "metadata": {},
   "outputs": [],
   "source": [
    "context = json.loads(completion.choices[0].message.tool_calls[0].function.arguments)"
   ]
  },
  {
   "cell_type": "code",
   "execution_count": 52,
   "id": "755a5bae-9f21-45d7-bbcb-49640113956a",
   "metadata": {},
   "outputs": [
    {
     "data": {
      "text/plain": [
       "{'all_questions': [{'question_id': 1,\n",
       "   'question': 'What are the two main components that define a class in object-oriented programming?'},\n",
       "  {'question_id': 2,\n",
       "   'question': \"Create a Python class called 'Rectangle' with attributes 'length' and 'width', and a method called 'area' that calculates and returns the area of the rectangle.\"},\n",
       "  {'question_id': 3,\n",
       "   'question': 'Explain the concept of data abstraction in object-oriented programming and how it relates to the internal representation and interface of an object.'},\n",
       "  {'question_id': 4,\n",
       "   'question': \"Define a method called 'repr' for the 'Coordinate' class that returns a string representation of the object in the format 'Coordinate(x, y)'.\"},\n",
       "  {'question_id': 5,\n",
       "   'question': \"What is the purpose of the 'init' method in a Python class?\"},\n",
       "  {'question_id': 6,\n",
       "   'question': \"Create a class called 'BankAccount' with attributes 'balance' and 'owner', and methods 'deposit' and 'withdraw' that update the balance accordingly.\"},\n",
       "  {'question_id': 7,\n",
       "   'question': \"How does the 'self' parameter work in Python class methods, and why is it necessary?\"},\n",
       "  {'question_id': 8,\n",
       "   'question': \"Modify the 'Fraction' class from the lecture to include a method called 'multiply' that takes another Fraction object as a parameter and returns a new Fraction object representing the product of the two fractions.\"},\n",
       "  {'question_id': 9,\n",
       "   'question': 'Discuss the advantages of object-oriented programming compared to procedural programming.'},\n",
       "  {'question_id': 10,\n",
       "   'question': \"Create a class called 'Person' with attributes 'name' and 'age', and a class called 'Student' that inherits from 'Person' and adds an attribute 'student_id' and a method 'enroll' that prints a message indicating the student has enrolled in a course.\"}]}"
      ]
     },
     "execution_count": 52,
     "metadata": {},
     "output_type": "execute_result"
    }
   ],
   "source": [
    "context"
   ]
  },
  {
   "cell_type": "code",
   "execution_count": 72,
   "id": "165b6753-75e7-4e63-be7e-84e2fca744fd",
   "metadata": {},
   "outputs": [
    {
     "data": {
      "text/plain": [
       "'[{\\'question_id\\': 1, \\'question\\': \\'What are the two main components that define a class in object-oriented programming?\\'}, {\\'question_id\\': 2, \\'question\\': \"Create a Python class called \\'Rectangle\\' with attributes \\'length\\' and \\'width\\', and a method called \\'area\\' that calculates and returns the area of the rectangle.\"}, {\\'question_id\\': 3, \\'question\\': \\'Explain the concept of data abstraction in object-oriented programming and how it relates to the internal representation and interface of an object.\\'}, {\\'question_id\\': 4, \\'question\\': \"Define a method called \\'repr\\' for the \\'Coordinate\\' class that returns a string representation of the object in the format \\'Coordinate(x, y)\\'.\"}, {\\'question_id\\': 5, \\'question\\': \"What is the purpose of the \\'init\\' method in a Python class?\"}, {\\'question_id\\': 6, \\'question\\': \"Create a class called \\'BankAccount\\' with attributes \\'balance\\' and \\'owner\\', and methods \\'deposit\\' and \\'withdraw\\' that update the balance accordingly.\"}, {\\'question_id\\': 7, \\'question\\': \"How does the \\'self\\' parameter work in Python class methods, and why is it necessary?\"}, {\\'question_id\\': 8, \\'question\\': \"Modify the \\'Fraction\\' class from the lecture to include a method called \\'multiply\\' that takes another Fraction object as a parameter and returns a new Fraction object representing the product of the two fractions.\"}, {\\'question_id\\': 9, \\'question\\': \\'Discuss the advantages of object-oriented programming compared to procedural programming.\\'}, {\\'question_id\\': 10, \\'question\\': \"Create a class called \\'Person\\' with attributes \\'name\\' and \\'age\\', and a class called \\'Student\\' that inherits from \\'Person\\' and adds an attribute \\'student_id\\' and a method \\'enroll\\' that prints a message indicating the student has enrolled in a course.\"}]'"
      ]
     },
     "execution_count": 72,
     "metadata": {},
     "output_type": "execute_result"
    }
   ],
   "source": [
    "str(context['all_questions'])"
   ]
  },
  {
   "cell_type": "code",
   "execution_count": 73,
   "id": "21e5b114-8a4f-4456-a0e2-bbe6747ba69f",
   "metadata": {},
   "outputs": [],
   "source": [
    "question_context = str(context['all_questions'])"
   ]
  },
  {
   "cell_type": "code",
   "execution_count": 64,
   "id": "ead8e73f-d0bd-4874-841a-f1a5049fac90",
   "metadata": {},
   "outputs": [],
   "source": [
    "ground_truth_pdf = get_clean_pdf_content('slides.pdf')"
   ]
  },
  {
   "cell_type": "code",
   "execution_count": 65,
   "id": "3919fa98-9b27-4b6c-898d-802a87eab773",
   "metadata": {},
   "outputs": [
    {
     "data": {
      "text/plain": [
       "'OBJECT ORIENTED  PROGRAMMING (download slides and . pyfiles\\x03ĂŶĚ\\x03 follow along!) 6.0001 LECTURE 8 6.0001 LECTURE 8 1 OBJECTS \\uf0a7Python supports many different kinds of data 1234 3.14159 \"Hello\" [1, 5, 7, 11, 13] {\"CA\": \"California\", \"MA\": \"Massachusetts\"} \\uf0a7each is an object , and every object has: •a type •an internal data representation (primitive or composite) •a set of procedures for interaction with the object \\uf0a7an object is an instance of a type •1234 is an instance of an int •\"hello\" is an instance of a string 6.0001 LECTURE 8 2 OBJECT ORIENTED  PROGRAMMING (OOP) \\uf0a7EVERYTHING IN PYTHON IS AN OBJECT (and has a type) \\uf0a7can create new objects of some type \\uf0a7can manipulate objects \\uf0a7can destroy objects •explicitly using del or just “forget” about them •python system will reclaim destroyed or inaccessible  objects –called “garbage collection ” 6.0001 LECTURE 8 3 WHAT ARE OBJECTS? \\uf0a7objects are a data abstraction that captures… (1) an internal representation  •through data attributes (2) an interface for  interacting with object  •through methods  (aka procedures/functions) •defines behaviors but  hides implementation 6.0001 LECTURE 8 4 \\uf0a7how are lists represented internally ? linked list of cells L = \\uf0a7how to manipulate lists? •L[i], L[i:j], + •len(), min(), max(), del(L[i]) •L.append(),L.extend(),L.count(),L.index(),  L.insert(),L.pop(),L.remove(),L.reverse (), L.sort() \\uf0a7internal representation should be private \\uf0a7correct behavior may be compromised if you manipulate  internal representation directlyEXAMPLE:  [1,2,3,4] has type list 6.0001 LECTURE 8 51        -> 2       -> 3       -> 4       -> ADVANTAGES OF OOP \\uf0a7bundle data into packages together with procedures  that work on them through well -defined interfaces \\uf0a7divide -and-conquer development •implement and test behavior of each class separately •increased modularity reduces complexity \\uf0a7classes make it easy to reuse code •many Python modules define new classes •each class has a separate environment (no collision on  function names) •inheritance allows subclasses to redefine or extend a  selected subset of a superclass’ behavior 6.0001 LECTURE 8 6 \\uf0a7make a distinction between creating a class and  using an instance of the class \\uf0a7creating the class involves •defining the class name •defining class attributes •for example, someone wrote code to implement a list class \\uf0a7using the class involves •creating new instances of objects •doing operations on the instances •for example, L=[1,2] and len(L) 6.0001 LECTURE 8 7Implementing the class Using the class CREATING AND USING YOUR  OWN TYPES WITH CLASSES DEFINE YOUR OWN TYPES \\uf0a7use the class keyword to define a new type class Coordinate(object): #define attributes here \\uf0a7similar to def, indent code to indicate which statements are  part of the class definition \\uf0a7the word object means that Coordinate is a Python  object and inherits all its attributes (inheritance next lecture)  •Coordinate is a subclass of object •object is a superclass of Coordinate 6.0001 LECTURE 8 8Implementing the class Using the class WHAT ARE ATTRIBUTES? \\uf0a7data and procedures that “ belong ” to the class \\uf0a7data attributes •think of data as other objects that make up the class •for example, a coordinate is made up of two numbers \\uf0a7methods (procedural attributes) •think of methods as functions that only work with this class •how to interact with the object •for example you can define a distance between two  coordinate objects but there is no meaning to a distance  between two list objects 6.0001 LECTURE 8 9 DEFINING HOW TO CREATE AN  INSTANCE OF A CLASS \\uf0a7first have to define how to create an instance of  object  \\uf0a7use a special method called __init__ to  initialize some data attributes class Coordinate(object): def __init__(self, x, y): self.x= x self.y= y 6.0001 LECTURE 8 10Implementing the class Using the class ACTUALLY CREATING AN  INSTANCE OF A CLASS c = Coordinate(3,4) origin = Coordinate(0,0) print(c.x) print(origin.x) \\uf0a7data attributes of an instance are called instance  variables \\uf0a7don’t provide argument for self , Python does this  automatically 6.0001 LECTURE 8 11Implementing the class Using the class WHAT IS A METHOD? \\uf0a7procedural attribute, like a function that works only  with this class \\uf0a7Python always passes the object as the first argument •convention is to use self as the name of the first  argument of all methods \\uf0a7the “ .”operator is used to access any attribute •a data attribute of an object •a method of an object 6.0001 LECTURE 8 12 DEFINE A METHOD FOR THE  Coordinate CLASS class Coordinate(object): def __init__(self, x, y): self.x= x self.y= y def distance(self , other): x_diff_sq = ( self.x-other.x)**2 y_diff_sq = (self.y-other.y)**2 return (x_diff_sq +y_diff_sq)**0.5 \\uf0a7other than self and dot notation, methods behave just  like functions (take params, do operations, return) 6.0001 LECTURE 8 13Implementing the class Using the class HOW TO USE A METHOD def distance(self, other): # code here Using the class: \\uf0a7conventional way c = Coordinate(3,4) zero = Coordinate(0,0)print(c.distance(zero)) 6.0001 LECTURE 8 14\\uf0a7equivalent to  c = Coordinate(3,4)zero = Coordinate(0,0 ) print(Coordinate.distance(c, zero))Implementing the class Using the class PRINT REPRESENTATION OF  AN OBJECT >>> c = Coordinate(3,4)  >>> print(c) <__main__.Coordinate object at 0x7fa918510488> \\uf0a7uninformative print representation by default \\uf0a7define a __str__method for a class \\uf0a7Python calls the __str__ method when used with  print on your class object \\uf0a7you choose what it does! Say that when we print a  Coordinate object, want to show >>> print(c) <3,4> 6.0001 LECTURE 8 15 DEFINING YOUR OWN PRINT  METHOD class Coordinate(object): def __init__(self, x, y): self.x= x self.y= y defdistance(self, other): x_diff_sq = (self.x-other.x)**2 y_diff_sq = (self.y-other.y)**2 return (x_diff_sq + y_diff_sq)**0.5 def __str__(self): return \"<\"+str( self.x)+\",\"+str( self.y)+\">\" 6.0001 LECTURE 8 16Implementing the class Using the class WRAPPING YOUR HEAD  AROUND TYPES AND CLASSES \\uf0a7can ask for the type of an object instance >>> c = Coordinate(3,4) >>> print(c) <3,4> >>> print(type(c)) <class __ main__.Coordinate> \\uf0a7this makes sense since >>> print(Coordinate) <class __ main__.Coordinate> >>> print(type(Coordinate)) <type \\'type\\'> \\uf0a7use isinstance() to check if an object is a Coordinate >>> print(isinstance (c, Coordinate )) True 6.0001 LECTURE 8 17Implementing the class Using the class SPECIAL OPERATORS \\uf0a7+, -, ==, <, >, len(), print, and many others https ://docs.python.org/3/reference/datamodel.html#basic -customization \\uf0a7like print , can override these to work with your class \\uf0a7define them with double underscores before/after __add__(self, other) \\uf0e0self + other __sub__(self, other) \\uf0e0self -other __eq__(self, other) \\uf0e0self == other __lt__(self, other) \\uf0e0self < other __len__(self) \\uf0e0len(self) __str__(self) \\uf0e0print self ... and others 6.0001 LECTURE 8 18 EXAMPLE: FRACTIONS \\uf0a7create a new type to represent a number as a fraction \\uf0a7internal representation is two integers •numerator •denominator \\uf0a7interface a.k.a. methods a.k.a how to interact with  Fraction objects •add, subtract •print representation, convert to a float •invert the fraction \\uf0a7the code for this is in the handout, check it out! 6.0001 LECTURE 8 19 THE POWER OF OOP \\uf0a7bundle together objects that share  •common attributes and  •procedures that operate on those attributes \\uf0a7use abstraction to make a distinction between how to  implement an object vs how to use the object \\uf0a7build layers of object abstractions that inherit  behaviors from other classes of objects \\uf0a7create our own classes of objects on top of Python’s  basic classes 6.0001 LECTURE 8 20 MIT OpenCourseWare https://ocw.mit.edu 6.0001 Introduction to Computer Science and Programming in Python Fall  2016 For information about citing these materials or our Terms of Use, visit: https:// ocw.mit.edu/terms . '"
      ]
     },
     "execution_count": 65,
     "metadata": {},
     "output_type": "execute_result"
    }
   ],
   "source": [
    "ground_truth_pdf"
   ]
  },
  {
   "cell_type": "code",
   "execution_count": 66,
   "id": "f487af8f-7911-4730-b16d-79851b1f3319",
   "metadata": {},
   "outputs": [],
   "source": [
    "from openai import OpenAI\n",
    "client = OpenAI()\n",
    "def answer_generation(pdf_content, slides_content):\n",
    "    tools = [\n",
    "      {\n",
    "        \"type\": \"function\",\n",
    "        \"function\": {\n",
    "          \"name\": \"Question_generation\",\n",
    "          \"description\": \"Extract the questions in json\",\n",
    "          \"parameters\": {\n",
    "            \"type\": \"object\",\n",
    "            \"properties\": {\n",
    "                \"all_questions\": {\n",
    "                    \"type\": \"array\",\n",
    "                    \"items\": {\n",
    "                        \"type\": \"object\",\n",
    "                        \"properties\": {\n",
    "                            \"question_id\": {\n",
    "                                \"type\": \"integer\",\n",
    "                                \"description\": \"This is a descriptive question generated to solve the problem\"\n",
    "                            },\n",
    "                            \"question\": {\n",
    "                                \"type\": \"string\",\n",
    "                                \"description\": \"This is the reason why the question is asked and how it solves the problem stated above\"\n",
    "                            },\n",
    "                            \"answers\": {\n",
    "                                \"type\": \"string\",\n",
    "                                \"description\": \"This provides the correct solution of the question asked from the slide content only\"\n",
    "                            },\n",
    "                        },\n",
    "                        \"required\": [\"question_id\", \"question\", \"answers\"]\n",
    "                    }\n",
    "                },\n",
    "                \n",
    "            },\n",
    "            \"required\": [\"all_questions\"]\n",
    "          },\n",
    "        }\n",
    "      }\n",
    "    ]\n",
    "    messages = [{\"role\": \"user\", \"content\": f\"\"\"Anwer the questions in the questions section using the slides content provided and make sure you use \n",
    "    the pdf output to generate outputs.\n",
    "        Questions: {pdf_content}\n",
    "        slides content: {slides_content}\n",
    "        \"\"\"}]\n",
    "    completion = client.chat.completions.create(\n",
    "      model=\"gpt-4o\",\n",
    "      messages=messages,\n",
    "      tools=tools,\n",
    "      tool_choice=\"auto\"\n",
    "    )\n",
    "    return json.loads(completion.choices[0].message.tool_calls[0].function.arguments)\n"
   ]
  },
  {
   "cell_type": "code",
   "execution_count": 68,
   "id": "98cb8d23-35a3-43dd-9f8e-33b70255faa0",
   "metadata": {},
   "outputs": [
    {
     "data": {
      "text/plain": [
       "{'all_questions': [{'question_id': 1,\n",
       "   'question': 'What are the two main components that define a class in object-oriented programming?',\n",
       "   'answers': 'The two main components that define a class in object-oriented programming are:\\n1. An internal representation: This consists of data attributes that represent the state of the object.\\n2. An interface for interacting with the object: This consists of methods (procedures/functions) that define the behaviors of the object while hiding its implementation.'},\n",
       "  {'question_id': 2,\n",
       "   'question': \"Create a Python class called 'Rectangle' with attributes 'length' and 'width', and a method called 'area' that calculates and returns the area of the rectangle.\",\n",
       "   'answers': \"Here is a Python class called 'Rectangle' with attributes 'length' and 'width', and a method called 'area' that calculates and returns the area of the rectangle:\\n\\n```python\\nclass Rectangle:\\n    def __init__(self, length, width):\\n        self.length = length\\n        self.width = width\\n\\n    def area(self):\\n        return self.length * self.width\\n```\\nThis class defines 'length' and 'width' as data attributes, and 'area' as a method to compute the area.\"},\n",
       "  {'question_id': 3,\n",
       "   'question': 'Explain the concept of data abstraction in object-oriented programming and how it relates to the internal representation and interface of an object.',\n",
       "   'answers': \"Data abstraction in object-oriented programming is the concept of hiding the internal details of how an object is represented while exposing only what is necessary through a public interface. This means that an object's internal representation—the data attributes—are kept private, and its interface—methods or procedures—defines how other code can interact with it. This separation between the internal state of the object and the external interface allows for changes in the internal representation without affecting how the object is used, ensuring modularity and better maintainability.\"},\n",
       "  {'question_id': 4,\n",
       "   'question': \"Define a method called 'repr' for the 'Coordinate' class that returns a string representation of the object in the format 'Coordinate(x, y)'.\",\n",
       "   'answers': \"Here is the `repr` method for the `Coordinate` class that returns a string representation of the object in the format 'Coordinate(x, y)':\\n\\n```python\\nclass Coordinate:\\n    def __init__(self, x, y):\\n        self.x = x\\n        self.y = y\\n\\n    def __repr__(self):\\n        return f'Coordinate({self.x}, {self.y})'\\n```\\nThis class defines `__repr__` as a method to represent the object as a string.\"},\n",
       "  {'question_id': 5,\n",
       "   'question': \"What is the purpose of the 'init' method in a Python class?\",\n",
       "   'answers': \"The `__init__` method in a Python class is a special method called a constructor. Its purpose is to initialize the object's state by setting the initial values of the data attributes of the class. When a new instance of the class is created, Python automatically calls this method to set up the object with the provided values. For example:\\n\\n```python\\nclass Coordinate:\\n    def __init__(self, x, y):\\n        self.x = x\\n        self.y = y\\n```\\nIn this example, the `__init__` method initializes the `x` and `y` attributes of the `Coordinate` class.\"},\n",
       "  {'question_id': 6,\n",
       "   'question': \"Create a class called 'BankAccount' with attributes 'balance' and 'owner', and methods 'deposit' and 'withdraw' that update the balance accordingly.\",\n",
       "   'answers': \"Here is a class called 'BankAccount' with attributes 'balance' and 'owner', and methods 'deposit' and 'withdraw' that update the balance accordingly:\\n\\n```python\\nclass BankAccount:\\n    def __init__(self, owner, balance=0):\\n        self.owner = owner\\n        self.balance = balance\\n\\n    def deposit(self, amount):\\n        self.balance += amount\\n\\n    def withdraw(self, amount):\\n        if amount <= self.balance:\\n            self.balance -= amount\\n        else:\\n            print('Insufficient funds')\\n```\\nThis class initializes the 'owner' and 'balance' attributes, and has methods 'deposit' and 'withdraw' to update the balance.\"},\n",
       "  {'question_id': 7,\n",
       "   'question': \"How does the 'self' parameter work in Python class methods, and why is it necessary?\",\n",
       "   'answers': \"The `self` parameter in Python class methods is a reference to the instance of the class on which the method is being called. It is used to access the instance's attributes and other methods from within the class. The `self` parameter is necessary because it allows each instance of a class to keep track of its own data attributes and methods, distinguishing them from other instances. Without `self`, there would be no way to refer to the instance's attributes, leading to confusion and errors. For example:\\n\\n```python\\nclass Coordinate:\\n    def __init__(self, x, y):\\n        self.x = x\\n        self.y = y\\n\\n    def move(self, dx, dy):\\n        self.x += dx\\n        self.y += dy\\n```\\nIn this example, `self` is used to reference the `x` and `y` attributes of the instance.\"},\n",
       "  {'question_id': 8,\n",
       "   'question': \"Modify the 'Fraction' class from the lecture to include a method called 'multiply' that takes another Fraction object as a parameter and returns a new Fraction object representing the product of the two fractions.\",\n",
       "   'answers': \"Here is the modified 'Fraction' class to include a method called 'multiply' that takes another Fraction object as a parameter and returns a new Fraction object representing the product of the two fractions:\\n\\n```python\\nclass Fraction:\\n    def __init__(self, numerator, denominator):\\n        self.numerator = numerator\\n        self.denominator = denominator\\n\\n    def __str__(self):\\n        return f'{self.numerator}/{self.denominator}'\\n\\n    def multiply(self, other):\\n        new_numerator = self.numerator * other.numerator\\n        new_denominator = self.denominator * other.denominator\\n        return Fraction(new_numerator, new_denominator)\\n```\\nIn this class, the `multiply` method computes the product of two Fraction objects and returns a new Fraction object with the resultant numerator and denominator.\"},\n",
       "  {'question_id': 9,\n",
       "   'question': 'Discuss the advantages of object-oriented programming compared to procedural programming.',\n",
       "   'answers': 'The advantages of object-oriented programming (OOP) compared to procedural programming include:\\n1. Modularity: OOP allows the bundling of data and methods into classes. Each class can be developed, tested, and debugged independently, reducing code complexity.\\n2. Reusability: Classes and objects can be reused across different programs. Inheritance allows new classes to reuse existing code, reducing duplication.\\n3. Extensibility: OOP makes it easy to extend existing code. New functionality can be added with minimal changes to existing code by creating new subclasses.\\n4. Maintainability: Because of its modularity and encapsulation, OOP code is easier to maintain and update. Changes in one part of the code have minimal impact on other parts.\\n5. Abstraction: OOP helps in creating clear models of real-world objects, simplifying complex systems by hiding unnecessary details through abstraction.\\n6. Encapsulation: OOP restricts access to the internal state of objects, protecting the integrity of the data and allowing controlled modifications through well-defined interfaces.'},\n",
       "  {'question_id': 10,\n",
       "   'question': \"Create a class called 'Person' with attributes 'name' and 'age', and a class called 'Student' that inherits from 'Person' and adds an attribute 'student_id' and a method 'enroll' that prints a message indicating the student has enrolled in a course.\",\n",
       "   'answers': \"Here are the classes 'Person' and 'Student' with the specified attributes and methods:\\n\\n```python\\nclass Person:\\n    def __init__(self, name, age):\\n        self.name = name\\n        self.age = age\\n\\nclass Student(Person):\\n    def __init__(self, name, age, student_id):\\n        super().__init__(name, age)\\n        self.student_id = student_id\\n\\n    def enroll(self):\\n        print(f'Student {self.name} with ID {self.student_id} has enrolled in the course.')\\n```\\nThe `Student` class inherits from the `Person` class and adds the `student_id` attribute and a method `enroll` that prints an enrollment message.\"}]}"
      ]
     },
     "execution_count": 68,
     "metadata": {},
     "output_type": "execute_result"
    }
   ],
   "source": [
    "answer_generation(pdf_content, ground_truth_pdf)"
   ]
  },
  {
   "cell_type": "code",
   "execution_count": 75,
   "id": "aac9f8e8-2454-492d-83b2-323fadc70cca",
   "metadata": {},
   "outputs": [],
   "source": [
    "student_truth_pdf = get_clean_pdf_content('Student1005.pdf')"
   ]
  },
  {
   "cell_type": "code",
   "execution_count": 74,
   "id": "dcec72c5-2654-4af0-be52-1a14962712df",
   "metadata": {},
   "outputs": [],
   "source": [
    "from openai import OpenAI\n",
    "client = OpenAI()\n",
    "def student_answer_generation(question_json_output, student_pdf_outputs):\n",
    "    tools = [\n",
    "      {\n",
    "        \"type\": \"function\",\n",
    "        \"function\": {\n",
    "          \"name\": \"Question_generation\",\n",
    "          \"description\": \"Extract the questions in json\",\n",
    "          \"parameters\": {\n",
    "            \"type\": \"object\",\n",
    "            \"properties\": {\n",
    "                \"all_questions\": {\n",
    "                    \"type\": \"array\",\n",
    "                    \"items\": {\n",
    "                        \"type\": \"object\",\n",
    "                        \"properties\": {\n",
    "                            \"question_id\": {\n",
    "                                \"type\": \"integer\",\n",
    "                                \"description\": \"This is a descriptive question generated to solve the problem\"\n",
    "                            },\n",
    "                            \"student_answer\": {\n",
    "                                \"type\": \"string\",\n",
    "                                \"description\": \"This is the extracted answer from the student submission for that particular question\"\n",
    "                            },\n",
    "                        },\n",
    "                        \"required\": [\"question_id\", \"student_answer\"]\n",
    "                    }\n",
    "                },\n",
    "                \n",
    "            },\n",
    "            \"required\": [\"all_questions\"]\n",
    "          },\n",
    "        }\n",
    "      }\n",
    "    ]\n",
    "    messages = [{\"role\": \"user\", \"content\": f\"\"\"Extract all the answers provided by the students the answers should correspond to the questions\n",
    "    provided in the questions outputs use the same questions ids\n",
    "    the pdf output to generate outputs.\n",
    "    Questions: {question_context}\n",
    "        student output: {student_pdf_outputs}\n",
    "        \"\"\"}]\n",
    "    completion = client.chat.completions.create(\n",
    "      model=\"gpt-4o\",\n",
    "      messages=messages,\n",
    "      tools=tools,\n",
    "      tool_choice=\"auto\"\n",
    "    )\n",
    "    return json.loads(completion.choices[0].message.tool_calls[0].function.arguments)\n"
   ]
  },
  {
   "cell_type": "code",
   "execution_count": null,
   "id": "257594a2-a3da-4797-af47-e14ab07b7f70",
   "metadata": {},
   "outputs": [],
   "source": [
    "student_answer_generation(question_json_output, student_pdf_outputs)"
   ]
  }
 ],
 "metadata": {
  "kernelspec": {
   "display_name": "Python 3 (ipykernel)",
   "language": "python",
   "name": "python3"
  },
  "language_info": {
   "codemirror_mode": {
    "name": "ipython",
    "version": 3
   },
   "file_extension": ".py",
   "mimetype": "text/x-python",
   "name": "python",
   "nbconvert_exporter": "python",
   "pygments_lexer": "ipython3",
   "version": "3.11.5"
  }
 },
 "nbformat": 4,
 "nbformat_minor": 5
}
